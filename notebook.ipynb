{
 "cells": [
  {
   "cell_type": "markdown",
   "metadata": {},
   "source": [
    "# Notebook du projet"
   ]
  },
  {
   "cell_type": "markdown",
   "metadata": {},
   "source": [
    "## Situation initiale"
   ]
  },
  {
   "cell_type": "markdown",
   "metadata": {},
   "source": [
    "On modélise la situation initiale :  \n",
    "    -Le nombre d'individu  \n",
    "    -Les individus parmi eux possédant un Samsung (simulé aléatoirement)  \n",
    "    -Le nombre d'individu possédant un Samsung à l'état initial"
   ]
  },
  {
   "cell_type": "code",
   "execution_count": 1,
   "metadata": {},
   "outputs": [],
   "source": [
    "import random\n",
    "import numpy as np\n",
    "import matplotlib.pyplot as plt"
   ]
  },
  {
   "cell_type": "code",
   "execution_count": 3,
   "metadata": {},
   "outputs": [],
   "source": [
    "n = 50 # nombre d'individus"
   ]
  },
  {
   "cell_type": "code",
   "execution_count": 4,
   "metadata": {},
   "outputs": [],
   "source": [
    "# Liste aléatoire de 0 et de 1 de taille n, 0 pour Samsung et 1 pour Apple\n",
    "X_0 = np.asarray([random.randint(0,1) for i in range(n)])"
   ]
  },
  {
   "cell_type": "code",
   "execution_count": 5,
   "metadata": {},
   "outputs": [],
   "source": [
    "# Nombre de Samsung à l'état initial\n",
    "S_0 = sum(X_0[i] == 0 for i in range(n))"
   ]
  },
  {
   "cell_type": "markdown",
   "metadata": {},
   "source": [
    "## Chaîne de Markov $S(t)_t$"
   ]
  },
  {
   "cell_type": "markdown",
   "metadata": {},
   "source": [
    "On définit la chaîne de Markov que l'on va étudier.  \n",
    "$S(t)$ définit le nombre d'individu possédant un Samsung dans le groupe à l'instant $t$."
   ]
  },
  {
   "cell_type": "code",
   "execution_count": 6,
   "metadata": {},
   "outputs": [],
   "source": [
    "def nbr_samsung(X_0):\n",
    "    \n",
    "    \"\"\"Fonction qui compte le nombre d'indivu possédant un Samsung dans une liste d'individu\n",
    "       La liste doit être un numpy array\"\"\"\n",
    "    \n",
    "    # Nombre de Samsung dans l'ensemble des individus\n",
    "    S = (np.sum(X_0 == 0))\n",
    "    return int(S) "
   ]
  },
  {
   "cell_type": "code",
   "execution_count": 7,
   "metadata": {},
   "outputs": [
    {
     "data": {
      "text/plain": [
       "23"
      ]
     },
     "execution_count": 7,
     "metadata": {},
     "output_type": "execute_result"
    }
   ],
   "source": [
    "nbr_samsung(X_0)"
   ]
  },
  {
   "cell_type": "markdown",
   "metadata": {},
   "source": [
    "# A) Cas d'un graphe complet"
   ]
  },
  {
   "cell_type": "markdown",
   "metadata": {},
   "source": [
    "Dans la suite, on étudie le cas d'un graphe complet.  \n",
    "C'est à dire que chaque individu est en relation avec chacun de ses voisins."
   ]
  },
  {
   "cell_type": "markdown",
   "metadata": {},
   "source": [
    "## Modèle 1 : Avis de la majorité des voisins"
   ]
  },
  {
   "cell_type": "markdown",
   "metadata": {},
   "source": [
    "Dans le modèle 1, on tire un individu au hasard dans le groupe à chaque instant $t$.  \n",
    "Ce dernier va alors changer de marque de smartphone en suivant l'avis de la majorité de ses voisins.  \n",
    "En cas d'égalité, il ne change pas de marque."
   ]
  },
  {
   "cell_type": "markdown",
   "metadata": {},
   "source": [
    "### Implémentation du processus"
   ]
  },
  {
   "cell_type": "code",
   "execution_count": 8,
   "metadata": {},
   "outputs": [],
   "source": [
    "def model_1(X_0):\n",
    "    \n",
    "    \"\"\"Implémentation de l'évolution du modèle 1\n",
    "       Renvoie la liste après une étape du processus\n",
    "       Fonctionne avec des numpy array\"\"\"\n",
    "    \n",
    "    X = np.copy(X_0)\n",
    "    i = np.random.choice(len(X)) # on tire un individu X_i au hasard dans la liste X\n",
    "    V = np.delete(X,i)           # ensemble des voisins de l'individu X_i\n",
    "    \n",
    "    # Condition d'évolution de la méthode 1\n",
    "    if  np.sum(V == 1) > np.sum(V == 0):            \n",
    "        X[i] = 1\n",
    "    else:\n",
    "        X[i] = 0\n",
    "\n",
    "    return X"
   ]
  },
  {
   "cell_type": "code",
   "execution_count": 9,
   "metadata": {},
   "outputs": [
    {
     "data": {
      "text/plain": [
       "array([1, 0, 1, 1, 1, 1, 1, 1, 1, 0, 0, 1, 1, 0, 1, 1, 1, 0, 1, 0, 0, 1,\n",
       "       1, 0, 0, 0, 1, 1, 0, 1, 0, 1, 0, 0, 0, 0, 0, 0, 1, 0, 1, 0, 1, 1,\n",
       "       1, 0, 1, 0, 0, 1])"
      ]
     },
     "execution_count": 9,
     "metadata": {},
     "output_type": "execute_result"
    }
   ],
   "source": [
    "model_1(X_0)"
   ]
  },
  {
   "cell_type": "code",
   "execution_count": 10,
   "metadata": {},
   "outputs": [],
   "source": [
    "def model_1_iter(X_0, t):\n",
    "    \n",
    "    \"\"\"Fonction itérative du modèle 1\n",
    "       Renvoie une des listes possibles après t étapes du processus\n",
    "       Fonctionne avec des numpy array\"\"\"\n",
    "    \n",
    "    X = np.copy(X_0)\n",
    "    k = 0\n",
    "    while (k<t):\n",
    "        X = np.copy(model_1(X))\n",
    "        k = k+1\n",
    "    return X"
   ]
  },
  {
   "cell_type": "code",
   "execution_count": 11,
   "metadata": {},
   "outputs": [
    {
     "data": {
      "text/plain": [
       "array([1, 0, 1, 1, 1, 1, 1, 1, 1, 1, 0, 1, 1, 1, 1, 1, 1, 1, 1, 0, 0, 1,\n",
       "       1, 0, 0, 0, 1, 1, 0, 1, 0, 1, 0, 0, 1, 0, 0, 0, 1, 0, 1, 0, 1, 1,\n",
       "       1, 1, 1, 0, 0, 1])"
      ]
     },
     "execution_count": 11,
     "metadata": {},
     "output_type": "execute_result"
    }
   ],
   "source": [
    "model_1_iter(X_0, 7)"
   ]
  },
  {
   "cell_type": "code",
   "execution_count": 12,
   "metadata": {},
   "outputs": [],
   "source": [
    "def model_1_recu(X_0, t):\n",
    "    \n",
    "    \"\"\"Fonction récursive du modèle 1\n",
    "       Applique t fois le processus du modèle 1 à la même liste\n",
    "       Fonctionne avec des numpy array\"\"\"\n",
    "    \n",
    "    X = np.copy(X_0)\n",
    "    \n",
    "    if (t == 0):\n",
    "        return X\n",
    "    else:\n",
    "        return model_1(model_1_recu(X,t-1))"
   ]
  },
  {
   "cell_type": "code",
   "execution_count": 13,
   "metadata": {},
   "outputs": [
    {
     "data": {
      "text/plain": [
       "array([1, 0, 1, 1, 1, 1, 1, 1, 1, 0, 0, 1, 1, 0, 1, 1, 1, 0, 1, 0, 0, 1,\n",
       "       1, 0, 0, 1, 1, 1, 0, 1, 1, 1, 0, 0, 0, 1, 0, 0, 1, 0, 1, 0, 1, 1,\n",
       "       1, 1, 1, 1, 0, 1])"
      ]
     },
     "execution_count": 13,
     "metadata": {},
     "output_type": "execute_result"
    }
   ],
   "source": [
    "model_1_recu(X_0, 9)"
   ]
  },
  {
   "cell_type": "markdown",
   "metadata": {},
   "source": [
    "## Modèle 2 : Avis d'un seul voisin"
   ]
  },
  {
   "cell_type": "markdown",
   "metadata": {},
   "source": [
    "Dans le modèle 2, on tiré également un individu au hasard à chaque instant $t$.  \n",
    "Mais cette fois-ci, il change de marque (ou pas) en se basant uniquement sur l'avis d'un seul de ses voisins (lui aussi tiré au hasard)."
   ]
  },
  {
   "cell_type": "markdown",
   "metadata": {},
   "source": [
    "### Implémentation du processus"
   ]
  },
  {
   "cell_type": "code",
   "execution_count": 14,
   "metadata": {},
   "outputs": [],
   "source": [
    "def model_2(X_0):\n",
    "    \n",
    "    \"\"\"Implémentation de l'évolution du modèle 2\n",
    "       Renvoie la liste après une étape du processus\n",
    "       Fonctionne avec des numpy array\"\"\"\n",
    "    \n",
    "    X = np.copy(X_0)    \n",
    "    i = np.random.choice(len(X)) # on tire un individu X_i au hasard dans la liste X\n",
    "    V = np.delete(X,i)           # V_i ensemble des voisins de l'individu X_i\n",
    "    j = np.random.choice(len(V)) # on tire un individu X_j au hasard dans l'ensemble V_i\n",
    "    \n",
    "    X[i] = np.copy(V[j])\n",
    "    \n",
    "    return X"
   ]
  },
  {
   "cell_type": "code",
   "execution_count": 15,
   "metadata": {},
   "outputs": [
    {
     "data": {
      "text/plain": [
       "array([1, 0, 1, 1, 1, 1, 1, 1, 1, 0, 0, 1, 1, 0, 1, 1, 1, 0, 1, 0, 0, 1,\n",
       "       1, 0, 0, 0, 1, 1, 0, 1, 0, 1, 0, 0, 0, 0, 0, 0, 1, 0, 1, 0, 1, 0,\n",
       "       1, 0, 1, 0, 0, 1])"
      ]
     },
     "execution_count": 15,
     "metadata": {},
     "output_type": "execute_result"
    }
   ],
   "source": [
    "model_2(X_0)"
   ]
  },
  {
   "cell_type": "code",
   "execution_count": 16,
   "metadata": {},
   "outputs": [],
   "source": [
    "def model_2_iter(X_0, t):\n",
    "    \n",
    "    \"\"\"Fonction itérative du modèle 2\n",
    "       Renvoie une des listes possibles après t étapes du processus\n",
    "       Fonctionne avec des numpy array\"\"\"\n",
    "    \n",
    "    X = np.copy(X_0)\n",
    "    k = 0\n",
    "    \n",
    "    while (k<t):\n",
    "        k = k+1\n",
    "        X =np.copy(model_2(np.copy(X)))\n",
    "    return X"
   ]
  },
  {
   "cell_type": "code",
   "execution_count": 17,
   "metadata": {},
   "outputs": [
    {
     "data": {
      "text/plain": [
       "array([1, 0, 0, 1, 1, 1, 1, 1, 1, 0, 0, 1, 0, 0, 1, 1, 1, 0, 1, 0, 1, 1,\n",
       "       1, 0, 0, 0, 1, 1, 1, 1, 0, 1, 0, 1, 0, 0, 0, 0, 1, 0, 1, 0, 0, 1,\n",
       "       1, 0, 1, 0, 0, 1])"
      ]
     },
     "execution_count": 17,
     "metadata": {},
     "output_type": "execute_result"
    }
   ],
   "source": [
    "model_2_iter(X_0, 7)"
   ]
  },
  {
   "cell_type": "code",
   "execution_count": 18,
   "metadata": {},
   "outputs": [],
   "source": [
    "def model_2_recu(X_0, t):\n",
    "    \n",
    "    \"\"\"Fonction récursive du modèle 1\n",
    "       Applique t fois le processus du modèle 1 à la même liste\n",
    "       Fonctionne avec des numpy array\"\"\"\n",
    "    \n",
    "    X = np.copy(X_0)\n",
    "    \n",
    "    if (t == 0):\n",
    "        return X\n",
    "    else:\n",
    "        return model_2(model_2_recu(X, t-1))    "
   ]
  },
  {
   "cell_type": "code",
   "execution_count": 19,
   "metadata": {},
   "outputs": [
    {
     "data": {
      "text/plain": [
       "array([0, 0, 1, 1, 1, 0, 1, 1, 1, 0, 0, 1, 1, 0, 1, 1, 1, 0, 1, 0, 0, 1,\n",
       "       1, 0, 0, 0, 1, 1, 0, 1, 0, 1, 0, 0, 0, 0, 0, 0, 1, 0, 1, 1, 1, 1,\n",
       "       1, 0, 1, 0, 0, 1])"
      ]
     },
     "execution_count": 19,
     "metadata": {},
     "output_type": "execute_result"
    }
   ],
   "source": [
    "model_2_recu(X_0, 9)"
   ]
  },
  {
   "cell_type": "markdown",
   "metadata": {},
   "source": [
    "## Temps d'atteintes des états absorbants"
   ]
  },
  {
   "cell_type": "markdown",
   "metadata": {},
   "source": [
    "Dans cette partie, on s'intéresse au temps que met une des deux marques pour atteindre un monopole dans le groupe.  "
   ]
  },
  {
   "cell_type": "markdown",
   "metadata": {},
   "source": [
    "### Modèle 1"
   ]
  },
  {
   "cell_type": "code",
   "execution_count": 20,
   "metadata": {},
   "outputs": [],
   "source": [
    "def temps_att_1(X_0):\n",
    "    \n",
    "    \"\"\"Fonction qui calcul le nombre d'étape nécessaire pour atteindre l'un des deux états absorbants dans le modèle 1\"\"\"\n",
    "    \n",
    "    cpt = 0 # variable qui compte le nombre d'étapes\n",
    "    X = X_0\n",
    "    Z = np.zeros(len(X_0)) # état absorbant S(t)=0\n",
    "    U = np.ones(len(X_0))  # état absorbant S(t)=n\n",
    "    \n",
    "    while ( np.array_equal(X,Z) or np.array_equal(X,U) ) == False:\n",
    "        cpt = cpt + 1\n",
    "        X = model_1_recu(X,1)\n",
    "    return cpt"
   ]
  },
  {
   "cell_type": "code",
   "execution_count": 21,
   "metadata": {},
   "outputs": [
    {
     "data": {
      "text/plain": [
       "193"
      ]
     },
     "execution_count": 21,
     "metadata": {},
     "output_type": "execute_result"
    }
   ],
   "source": [
    "temps_att_1(X_0)"
   ]
  },
  {
   "cell_type": "markdown",
   "metadata": {},
   "source": [
    "### Modèle 2"
   ]
  },
  {
   "cell_type": "code",
   "execution_count": 22,
   "metadata": {},
   "outputs": [],
   "source": [
    "def temps_att_2(X_0):\n",
    "    \n",
    "    \"\"\"Fonction qui calcul le nombre d'étape nécessaire pour atteindre l'un des deux états absorbants dans le modèle 2\"\"\"\n",
    "    \n",
    "    cpt = 0 # variable qui compte le nombre d'étapes\n",
    "    X = X_0\n",
    "    Z = np.zeros(len(X_0)) # état absorbant S(t)=0\n",
    "    U = np.ones(len(X_0))  # état absorbant S(t)=n\n",
    "    \n",
    "    while ( np.array_equal(X,Z) or np.array_equal(X,U) ) == False:\n",
    "        cpt = cpt + 1\n",
    "        X = model_2_recu(X,1)\n",
    "    return cpt"
   ]
  },
  {
   "cell_type": "code",
   "execution_count": 23,
   "metadata": {},
   "outputs": [
    {
     "data": {
      "text/plain": [
       "772"
      ]
     },
     "execution_count": 23,
     "metadata": {},
     "output_type": "execute_result"
    }
   ],
   "source": [
    "temps_att_2(X_0)"
   ]
  },
  {
   "cell_type": "markdown",
   "metadata": {},
   "source": [
    "## Trajectoires de la chaîne de Markov $S(t)$"
   ]
  },
  {
   "cell_type": "markdown",
   "metadata": {},
   "source": [
    "On s'intéresse ici à l'évolution de la chaine de markov $S(t)_t$ après plusieurs étapes du processus 1 ou 2.  \n",
    "On compare visuellement les deux trajectoires."
   ]
  },
  {
   "cell_type": "code",
   "execution_count": 24,
   "metadata": {},
   "outputs": [],
   "source": [
    "%matplotlib notebook"
   ]
  },
  {
   "cell_type": "markdown",
   "metadata": {},
   "source": [
    "### Modèle 1"
   ]
  },
  {
   "cell_type": "code",
   "execution_count": 25,
   "metadata": {},
   "outputs": [],
   "source": [
    "def traj_model_1(X_0, t):\n",
    "\n",
    "    \"\"\"Fonction qui donne les t premiers éléments de la chaine de Markov S dans le modèle 1 avec pour état initial X_0\"\"\"\n",
    "\n",
    "    S = np.zeros(t+1)\n",
    "    S[0] = nbr_samsung(X_0)\n",
    "    \n",
    "    for i in range(1,t+1):\n",
    "        X_0 = model_1_recu(X_0,1)\n",
    "        S[i] = nbr_samsung(X_0)\n",
    "    \n",
    "    return S"
   ]
  },
  {
   "cell_type": "code",
   "execution_count": 26,
   "metadata": {},
   "outputs": [
    {
     "data": {
      "text/plain": [
       "array([23., 23., 23., 23., 22., 21., 21., 20., 19., 19., 19.])"
      ]
     },
     "execution_count": 26,
     "metadata": {},
     "output_type": "execute_result"
    }
   ],
   "source": [
    "traj_model_1(X_0,10)"
   ]
  },
  {
   "cell_type": "markdown",
   "metadata": {},
   "source": [
    "### Modèle 2"
   ]
  },
  {
   "cell_type": "code",
   "execution_count": 27,
   "metadata": {},
   "outputs": [],
   "source": [
    "def traj_model_2(X_0, t):\n",
    "\n",
    "    \"\"\"Fonction qui donne les t premiers éléments de la chaine de Markov S dans le modèle 2 avec pour état initial X_0\"\"\"\n",
    "\n",
    "    S = np.zeros(t+1)\n",
    "    S[0] = nbr_samsung(X_0)\n",
    "    \n",
    "    for i in range(1,t+1):\n",
    "        X_0 = model_2_recu(X_0,1)\n",
    "        S[i] = nbr_samsung(X_0)\n",
    "    \n",
    "    return S"
   ]
  },
  {
   "cell_type": "code",
   "execution_count": 28,
   "metadata": {},
   "outputs": [
    {
     "data": {
      "text/plain": [
       "array([23., 24., 24., 24., 24., 24., 23., 22., 21., 21., 21.])"
      ]
     },
     "execution_count": 28,
     "metadata": {},
     "output_type": "execute_result"
    }
   ],
   "source": [
    "traj_model_2(X_0,10)"
   ]
  },
  {
   "cell_type": "markdown",
   "metadata": {},
   "source": [
    "### Tracé des trajectoires"
   ]
  },
  {
   "cell_type": "code",
   "execution_count": 32,
   "metadata": {
    "scrolled": true
   },
   "outputs": [
    {
     "data": {
      "application/javascript": [
       "/* Put everything inside the global mpl namespace */\n",
       "window.mpl = {};\n",
       "\n",
       "\n",
       "mpl.get_websocket_type = function() {\n",
       "    if (typeof(WebSocket) !== 'undefined') {\n",
       "        return WebSocket;\n",
       "    } else if (typeof(MozWebSocket) !== 'undefined') {\n",
       "        return MozWebSocket;\n",
       "    } else {\n",
       "        alert('Your browser does not have WebSocket support. ' +\n",
       "              'Please try Chrome, Safari or Firefox ≥ 6. ' +\n",
       "              'Firefox 4 and 5 are also supported but you ' +\n",
       "              'have to enable WebSockets in about:config.');\n",
       "    };\n",
       "}\n",
       "\n",
       "mpl.figure = function(figure_id, websocket, ondownload, parent_element) {\n",
       "    this.id = figure_id;\n",
       "\n",
       "    this.ws = websocket;\n",
       "\n",
       "    this.supports_binary = (this.ws.binaryType != undefined);\n",
       "\n",
       "    if (!this.supports_binary) {\n",
       "        var warnings = document.getElementById(\"mpl-warnings\");\n",
       "        if (warnings) {\n",
       "            warnings.style.display = 'block';\n",
       "            warnings.textContent = (\n",
       "                \"This browser does not support binary websocket messages. \" +\n",
       "                    \"Performance may be slow.\");\n",
       "        }\n",
       "    }\n",
       "\n",
       "    this.imageObj = new Image();\n",
       "\n",
       "    this.context = undefined;\n",
       "    this.message = undefined;\n",
       "    this.canvas = undefined;\n",
       "    this.rubberband_canvas = undefined;\n",
       "    this.rubberband_context = undefined;\n",
       "    this.format_dropdown = undefined;\n",
       "\n",
       "    this.image_mode = 'full';\n",
       "\n",
       "    this.root = $('<div/>');\n",
       "    this._root_extra_style(this.root)\n",
       "    this.root.attr('style', 'display: inline-block');\n",
       "\n",
       "    $(parent_element).append(this.root);\n",
       "\n",
       "    this._init_header(this);\n",
       "    this._init_canvas(this);\n",
       "    this._init_toolbar(this);\n",
       "\n",
       "    var fig = this;\n",
       "\n",
       "    this.waiting = false;\n",
       "\n",
       "    this.ws.onopen =  function () {\n",
       "            fig.send_message(\"supports_binary\", {value: fig.supports_binary});\n",
       "            fig.send_message(\"send_image_mode\", {});\n",
       "            if (mpl.ratio != 1) {\n",
       "                fig.send_message(\"set_dpi_ratio\", {'dpi_ratio': mpl.ratio});\n",
       "            }\n",
       "            fig.send_message(\"refresh\", {});\n",
       "        }\n",
       "\n",
       "    this.imageObj.onload = function() {\n",
       "            if (fig.image_mode == 'full') {\n",
       "                // Full images could contain transparency (where diff images\n",
       "                // almost always do), so we need to clear the canvas so that\n",
       "                // there is no ghosting.\n",
       "                fig.context.clearRect(0, 0, fig.canvas.width, fig.canvas.height);\n",
       "            }\n",
       "            fig.context.drawImage(fig.imageObj, 0, 0);\n",
       "        };\n",
       "\n",
       "    this.imageObj.onunload = function() {\n",
       "        fig.ws.close();\n",
       "    }\n",
       "\n",
       "    this.ws.onmessage = this._make_on_message_function(this);\n",
       "\n",
       "    this.ondownload = ondownload;\n",
       "}\n",
       "\n",
       "mpl.figure.prototype._init_header = function() {\n",
       "    var titlebar = $(\n",
       "        '<div class=\"ui-dialog-titlebar ui-widget-header ui-corner-all ' +\n",
       "        'ui-helper-clearfix\"/>');\n",
       "    var titletext = $(\n",
       "        '<div class=\"ui-dialog-title\" style=\"width: 100%; ' +\n",
       "        'text-align: center; padding: 3px;\"/>');\n",
       "    titlebar.append(titletext)\n",
       "    this.root.append(titlebar);\n",
       "    this.header = titletext[0];\n",
       "}\n",
       "\n",
       "\n",
       "\n",
       "mpl.figure.prototype._canvas_extra_style = function(canvas_div) {\n",
       "\n",
       "}\n",
       "\n",
       "\n",
       "mpl.figure.prototype._root_extra_style = function(canvas_div) {\n",
       "\n",
       "}\n",
       "\n",
       "mpl.figure.prototype._init_canvas = function() {\n",
       "    var fig = this;\n",
       "\n",
       "    var canvas_div = $('<div/>');\n",
       "\n",
       "    canvas_div.attr('style', 'position: relative; clear: both; outline: 0');\n",
       "\n",
       "    function canvas_keyboard_event(event) {\n",
       "        return fig.key_event(event, event['data']);\n",
       "    }\n",
       "\n",
       "    canvas_div.keydown('key_press', canvas_keyboard_event);\n",
       "    canvas_div.keyup('key_release', canvas_keyboard_event);\n",
       "    this.canvas_div = canvas_div\n",
       "    this._canvas_extra_style(canvas_div)\n",
       "    this.root.append(canvas_div);\n",
       "\n",
       "    var canvas = $('<canvas/>');\n",
       "    canvas.addClass('mpl-canvas');\n",
       "    canvas.attr('style', \"left: 0; top: 0; z-index: 0; outline: 0\")\n",
       "\n",
       "    this.canvas = canvas[0];\n",
       "    this.context = canvas[0].getContext(\"2d\");\n",
       "\n",
       "    var backingStore = this.context.backingStorePixelRatio ||\n",
       "\tthis.context.webkitBackingStorePixelRatio ||\n",
       "\tthis.context.mozBackingStorePixelRatio ||\n",
       "\tthis.context.msBackingStorePixelRatio ||\n",
       "\tthis.context.oBackingStorePixelRatio ||\n",
       "\tthis.context.backingStorePixelRatio || 1;\n",
       "\n",
       "    mpl.ratio = (window.devicePixelRatio || 1) / backingStore;\n",
       "\n",
       "    var rubberband = $('<canvas/>');\n",
       "    rubberband.attr('style', \"position: absolute; left: 0; top: 0; z-index: 1;\")\n",
       "\n",
       "    var pass_mouse_events = true;\n",
       "\n",
       "    canvas_div.resizable({\n",
       "        start: function(event, ui) {\n",
       "            pass_mouse_events = false;\n",
       "        },\n",
       "        resize: function(event, ui) {\n",
       "            fig.request_resize(ui.size.width, ui.size.height);\n",
       "        },\n",
       "        stop: function(event, ui) {\n",
       "            pass_mouse_events = true;\n",
       "            fig.request_resize(ui.size.width, ui.size.height);\n",
       "        },\n",
       "    });\n",
       "\n",
       "    function mouse_event_fn(event) {\n",
       "        if (pass_mouse_events)\n",
       "            return fig.mouse_event(event, event['data']);\n",
       "    }\n",
       "\n",
       "    rubberband.mousedown('button_press', mouse_event_fn);\n",
       "    rubberband.mouseup('button_release', mouse_event_fn);\n",
       "    // Throttle sequential mouse events to 1 every 20ms.\n",
       "    rubberband.mousemove('motion_notify', mouse_event_fn);\n",
       "\n",
       "    rubberband.mouseenter('figure_enter', mouse_event_fn);\n",
       "    rubberband.mouseleave('figure_leave', mouse_event_fn);\n",
       "\n",
       "    canvas_div.on(\"wheel\", function (event) {\n",
       "        event = event.originalEvent;\n",
       "        event['data'] = 'scroll'\n",
       "        if (event.deltaY < 0) {\n",
       "            event.step = 1;\n",
       "        } else {\n",
       "            event.step = -1;\n",
       "        }\n",
       "        mouse_event_fn(event);\n",
       "    });\n",
       "\n",
       "    canvas_div.append(canvas);\n",
       "    canvas_div.append(rubberband);\n",
       "\n",
       "    this.rubberband = rubberband;\n",
       "    this.rubberband_canvas = rubberband[0];\n",
       "    this.rubberband_context = rubberband[0].getContext(\"2d\");\n",
       "    this.rubberband_context.strokeStyle = \"#000000\";\n",
       "\n",
       "    this._resize_canvas = function(width, height) {\n",
       "        // Keep the size of the canvas, canvas container, and rubber band\n",
       "        // canvas in synch.\n",
       "        canvas_div.css('width', width)\n",
       "        canvas_div.css('height', height)\n",
       "\n",
       "        canvas.attr('width', width * mpl.ratio);\n",
       "        canvas.attr('height', height * mpl.ratio);\n",
       "        canvas.attr('style', 'width: ' + width + 'px; height: ' + height + 'px;');\n",
       "\n",
       "        rubberband.attr('width', width);\n",
       "        rubberband.attr('height', height);\n",
       "    }\n",
       "\n",
       "    // Set the figure to an initial 600x600px, this will subsequently be updated\n",
       "    // upon first draw.\n",
       "    this._resize_canvas(600, 600);\n",
       "\n",
       "    // Disable right mouse context menu.\n",
       "    $(this.rubberband_canvas).bind(\"contextmenu\",function(e){\n",
       "        return false;\n",
       "    });\n",
       "\n",
       "    function set_focus () {\n",
       "        canvas.focus();\n",
       "        canvas_div.focus();\n",
       "    }\n",
       "\n",
       "    window.setTimeout(set_focus, 100);\n",
       "}\n",
       "\n",
       "mpl.figure.prototype._init_toolbar = function() {\n",
       "    var fig = this;\n",
       "\n",
       "    var nav_element = $('<div/>');\n",
       "    nav_element.attr('style', 'width: 100%');\n",
       "    this.root.append(nav_element);\n",
       "\n",
       "    // Define a callback function for later on.\n",
       "    function toolbar_event(event) {\n",
       "        return fig.toolbar_button_onclick(event['data']);\n",
       "    }\n",
       "    function toolbar_mouse_event(event) {\n",
       "        return fig.toolbar_button_onmouseover(event['data']);\n",
       "    }\n",
       "\n",
       "    for(var toolbar_ind in mpl.toolbar_items) {\n",
       "        var name = mpl.toolbar_items[toolbar_ind][0];\n",
       "        var tooltip = mpl.toolbar_items[toolbar_ind][1];\n",
       "        var image = mpl.toolbar_items[toolbar_ind][2];\n",
       "        var method_name = mpl.toolbar_items[toolbar_ind][3];\n",
       "\n",
       "        if (!name) {\n",
       "            // put a spacer in here.\n",
       "            continue;\n",
       "        }\n",
       "        var button = $('<button/>');\n",
       "        button.addClass('ui-button ui-widget ui-state-default ui-corner-all ' +\n",
       "                        'ui-button-icon-only');\n",
       "        button.attr('role', 'button');\n",
       "        button.attr('aria-disabled', 'false');\n",
       "        button.click(method_name, toolbar_event);\n",
       "        button.mouseover(tooltip, toolbar_mouse_event);\n",
       "\n",
       "        var icon_img = $('<span/>');\n",
       "        icon_img.addClass('ui-button-icon-primary ui-icon');\n",
       "        icon_img.addClass(image);\n",
       "        icon_img.addClass('ui-corner-all');\n",
       "\n",
       "        var tooltip_span = $('<span/>');\n",
       "        tooltip_span.addClass('ui-button-text');\n",
       "        tooltip_span.html(tooltip);\n",
       "\n",
       "        button.append(icon_img);\n",
       "        button.append(tooltip_span);\n",
       "\n",
       "        nav_element.append(button);\n",
       "    }\n",
       "\n",
       "    var fmt_picker_span = $('<span/>');\n",
       "\n",
       "    var fmt_picker = $('<select/>');\n",
       "    fmt_picker.addClass('mpl-toolbar-option ui-widget ui-widget-content');\n",
       "    fmt_picker_span.append(fmt_picker);\n",
       "    nav_element.append(fmt_picker_span);\n",
       "    this.format_dropdown = fmt_picker[0];\n",
       "\n",
       "    for (var ind in mpl.extensions) {\n",
       "        var fmt = mpl.extensions[ind];\n",
       "        var option = $(\n",
       "            '<option/>', {selected: fmt === mpl.default_extension}).html(fmt);\n",
       "        fmt_picker.append(option);\n",
       "    }\n",
       "\n",
       "    // Add hover states to the ui-buttons\n",
       "    $( \".ui-button\" ).hover(\n",
       "        function() { $(this).addClass(\"ui-state-hover\");},\n",
       "        function() { $(this).removeClass(\"ui-state-hover\");}\n",
       "    );\n",
       "\n",
       "    var status_bar = $('<span class=\"mpl-message\"/>');\n",
       "    nav_element.append(status_bar);\n",
       "    this.message = status_bar[0];\n",
       "}\n",
       "\n",
       "mpl.figure.prototype.request_resize = function(x_pixels, y_pixels) {\n",
       "    // Request matplotlib to resize the figure. Matplotlib will then trigger a resize in the client,\n",
       "    // which will in turn request a refresh of the image.\n",
       "    this.send_message('resize', {'width': x_pixels, 'height': y_pixels});\n",
       "}\n",
       "\n",
       "mpl.figure.prototype.send_message = function(type, properties) {\n",
       "    properties['type'] = type;\n",
       "    properties['figure_id'] = this.id;\n",
       "    this.ws.send(JSON.stringify(properties));\n",
       "}\n",
       "\n",
       "mpl.figure.prototype.send_draw_message = function() {\n",
       "    if (!this.waiting) {\n",
       "        this.waiting = true;\n",
       "        this.ws.send(JSON.stringify({type: \"draw\", figure_id: this.id}));\n",
       "    }\n",
       "}\n",
       "\n",
       "\n",
       "mpl.figure.prototype.handle_save = function(fig, msg) {\n",
       "    var format_dropdown = fig.format_dropdown;\n",
       "    var format = format_dropdown.options[format_dropdown.selectedIndex].value;\n",
       "    fig.ondownload(fig, format);\n",
       "}\n",
       "\n",
       "\n",
       "mpl.figure.prototype.handle_resize = function(fig, msg) {\n",
       "    var size = msg['size'];\n",
       "    if (size[0] != fig.canvas.width || size[1] != fig.canvas.height) {\n",
       "        fig._resize_canvas(size[0], size[1]);\n",
       "        fig.send_message(\"refresh\", {});\n",
       "    };\n",
       "}\n",
       "\n",
       "mpl.figure.prototype.handle_rubberband = function(fig, msg) {\n",
       "    var x0 = msg['x0'] / mpl.ratio;\n",
       "    var y0 = (fig.canvas.height - msg['y0']) / mpl.ratio;\n",
       "    var x1 = msg['x1'] / mpl.ratio;\n",
       "    var y1 = (fig.canvas.height - msg['y1']) / mpl.ratio;\n",
       "    x0 = Math.floor(x0) + 0.5;\n",
       "    y0 = Math.floor(y0) + 0.5;\n",
       "    x1 = Math.floor(x1) + 0.5;\n",
       "    y1 = Math.floor(y1) + 0.5;\n",
       "    var min_x = Math.min(x0, x1);\n",
       "    var min_y = Math.min(y0, y1);\n",
       "    var width = Math.abs(x1 - x0);\n",
       "    var height = Math.abs(y1 - y0);\n",
       "\n",
       "    fig.rubberband_context.clearRect(\n",
       "        0, 0, fig.canvas.width / mpl.ratio, fig.canvas.height / mpl.ratio);\n",
       "\n",
       "    fig.rubberband_context.strokeRect(min_x, min_y, width, height);\n",
       "}\n",
       "\n",
       "mpl.figure.prototype.handle_figure_label = function(fig, msg) {\n",
       "    // Updates the figure title.\n",
       "    fig.header.textContent = msg['label'];\n",
       "}\n",
       "\n",
       "mpl.figure.prototype.handle_cursor = function(fig, msg) {\n",
       "    var cursor = msg['cursor'];\n",
       "    switch(cursor)\n",
       "    {\n",
       "    case 0:\n",
       "        cursor = 'pointer';\n",
       "        break;\n",
       "    case 1:\n",
       "        cursor = 'default';\n",
       "        break;\n",
       "    case 2:\n",
       "        cursor = 'crosshair';\n",
       "        break;\n",
       "    case 3:\n",
       "        cursor = 'move';\n",
       "        break;\n",
       "    }\n",
       "    fig.rubberband_canvas.style.cursor = cursor;\n",
       "}\n",
       "\n",
       "mpl.figure.prototype.handle_message = function(fig, msg) {\n",
       "    fig.message.textContent = msg['message'];\n",
       "}\n",
       "\n",
       "mpl.figure.prototype.handle_draw = function(fig, msg) {\n",
       "    // Request the server to send over a new figure.\n",
       "    fig.send_draw_message();\n",
       "}\n",
       "\n",
       "mpl.figure.prototype.handle_image_mode = function(fig, msg) {\n",
       "    fig.image_mode = msg['mode'];\n",
       "}\n",
       "\n",
       "mpl.figure.prototype.updated_canvas_event = function() {\n",
       "    // Called whenever the canvas gets updated.\n",
       "    this.send_message(\"ack\", {});\n",
       "}\n",
       "\n",
       "// A function to construct a web socket function for onmessage handling.\n",
       "// Called in the figure constructor.\n",
       "mpl.figure.prototype._make_on_message_function = function(fig) {\n",
       "    return function socket_on_message(evt) {\n",
       "        if (evt.data instanceof Blob) {\n",
       "            /* FIXME: We get \"Resource interpreted as Image but\n",
       "             * transferred with MIME type text/plain:\" errors on\n",
       "             * Chrome.  But how to set the MIME type?  It doesn't seem\n",
       "             * to be part of the websocket stream */\n",
       "            evt.data.type = \"image/png\";\n",
       "\n",
       "            /* Free the memory for the previous frames */\n",
       "            if (fig.imageObj.src) {\n",
       "                (window.URL || window.webkitURL).revokeObjectURL(\n",
       "                    fig.imageObj.src);\n",
       "            }\n",
       "\n",
       "            fig.imageObj.src = (window.URL || window.webkitURL).createObjectURL(\n",
       "                evt.data);\n",
       "            fig.updated_canvas_event();\n",
       "            fig.waiting = false;\n",
       "            return;\n",
       "        }\n",
       "        else if (typeof evt.data === 'string' && evt.data.slice(0, 21) == \"data:image/png;base64\") {\n",
       "            fig.imageObj.src = evt.data;\n",
       "            fig.updated_canvas_event();\n",
       "            fig.waiting = false;\n",
       "            return;\n",
       "        }\n",
       "\n",
       "        var msg = JSON.parse(evt.data);\n",
       "        var msg_type = msg['type'];\n",
       "\n",
       "        // Call the  \"handle_{type}\" callback, which takes\n",
       "        // the figure and JSON message as its only arguments.\n",
       "        try {\n",
       "            var callback = fig[\"handle_\" + msg_type];\n",
       "        } catch (e) {\n",
       "            console.log(\"No handler for the '\" + msg_type + \"' message type: \", msg);\n",
       "            return;\n",
       "        }\n",
       "\n",
       "        if (callback) {\n",
       "            try {\n",
       "                // console.log(\"Handling '\" + msg_type + \"' message: \", msg);\n",
       "                callback(fig, msg);\n",
       "            } catch (e) {\n",
       "                console.log(\"Exception inside the 'handler_\" + msg_type + \"' callback:\", e, e.stack, msg);\n",
       "            }\n",
       "        }\n",
       "    };\n",
       "}\n",
       "\n",
       "// from http://stackoverflow.com/questions/1114465/getting-mouse-location-in-canvas\n",
       "mpl.findpos = function(e) {\n",
       "    //this section is from http://www.quirksmode.org/js/events_properties.html\n",
       "    var targ;\n",
       "    if (!e)\n",
       "        e = window.event;\n",
       "    if (e.target)\n",
       "        targ = e.target;\n",
       "    else if (e.srcElement)\n",
       "        targ = e.srcElement;\n",
       "    if (targ.nodeType == 3) // defeat Safari bug\n",
       "        targ = targ.parentNode;\n",
       "\n",
       "    // jQuery normalizes the pageX and pageY\n",
       "    // pageX,Y are the mouse positions relative to the document\n",
       "    // offset() returns the position of the element relative to the document\n",
       "    var x = e.pageX - $(targ).offset().left;\n",
       "    var y = e.pageY - $(targ).offset().top;\n",
       "\n",
       "    return {\"x\": x, \"y\": y};\n",
       "};\n",
       "\n",
       "/*\n",
       " * return a copy of an object with only non-object keys\n",
       " * we need this to avoid circular references\n",
       " * http://stackoverflow.com/a/24161582/3208463\n",
       " */\n",
       "function simpleKeys (original) {\n",
       "  return Object.keys(original).reduce(function (obj, key) {\n",
       "    if (typeof original[key] !== 'object')\n",
       "        obj[key] = original[key]\n",
       "    return obj;\n",
       "  }, {});\n",
       "}\n",
       "\n",
       "mpl.figure.prototype.mouse_event = function(event, name) {\n",
       "    var canvas_pos = mpl.findpos(event)\n",
       "\n",
       "    if (name === 'button_press')\n",
       "    {\n",
       "        this.canvas.focus();\n",
       "        this.canvas_div.focus();\n",
       "    }\n",
       "\n",
       "    var x = canvas_pos.x * mpl.ratio;\n",
       "    var y = canvas_pos.y * mpl.ratio;\n",
       "\n",
       "    this.send_message(name, {x: x, y: y, button: event.button,\n",
       "                             step: event.step,\n",
       "                             guiEvent: simpleKeys(event)});\n",
       "\n",
       "    /* This prevents the web browser from automatically changing to\n",
       "     * the text insertion cursor when the button is pressed.  We want\n",
       "     * to control all of the cursor setting manually through the\n",
       "     * 'cursor' event from matplotlib */\n",
       "    event.preventDefault();\n",
       "    return false;\n",
       "}\n",
       "\n",
       "mpl.figure.prototype._key_event_extra = function(event, name) {\n",
       "    // Handle any extra behaviour associated with a key event\n",
       "}\n",
       "\n",
       "mpl.figure.prototype.key_event = function(event, name) {\n",
       "\n",
       "    // Prevent repeat events\n",
       "    if (name == 'key_press')\n",
       "    {\n",
       "        if (event.which === this._key)\n",
       "            return;\n",
       "        else\n",
       "            this._key = event.which;\n",
       "    }\n",
       "    if (name == 'key_release')\n",
       "        this._key = null;\n",
       "\n",
       "    var value = '';\n",
       "    if (event.ctrlKey && event.which != 17)\n",
       "        value += \"ctrl+\";\n",
       "    if (event.altKey && event.which != 18)\n",
       "        value += \"alt+\";\n",
       "    if (event.shiftKey && event.which != 16)\n",
       "        value += \"shift+\";\n",
       "\n",
       "    value += 'k';\n",
       "    value += event.which.toString();\n",
       "\n",
       "    this._key_event_extra(event, name);\n",
       "\n",
       "    this.send_message(name, {key: value,\n",
       "                             guiEvent: simpleKeys(event)});\n",
       "    return false;\n",
       "}\n",
       "\n",
       "mpl.figure.prototype.toolbar_button_onclick = function(name) {\n",
       "    if (name == 'download') {\n",
       "        this.handle_save(this, null);\n",
       "    } else {\n",
       "        this.send_message(\"toolbar_button\", {name: name});\n",
       "    }\n",
       "};\n",
       "\n",
       "mpl.figure.prototype.toolbar_button_onmouseover = function(tooltip) {\n",
       "    this.message.textContent = tooltip;\n",
       "};\n",
       "mpl.toolbar_items = [[\"Home\", \"Reset original view\", \"fa fa-home icon-home\", \"home\"], [\"Back\", \"Back to previous view\", \"fa fa-arrow-left icon-arrow-left\", \"back\"], [\"Forward\", \"Forward to next view\", \"fa fa-arrow-right icon-arrow-right\", \"forward\"], [\"\", \"\", \"\", \"\"], [\"Pan\", \"Pan axes with left mouse, zoom with right\", \"fa fa-arrows icon-move\", \"pan\"], [\"Zoom\", \"Zoom to rectangle\", \"fa fa-square-o icon-check-empty\", \"zoom\"], [\"\", \"\", \"\", \"\"], [\"Download\", \"Download plot\", \"fa fa-floppy-o icon-save\", \"download\"]];\n",
       "\n",
       "mpl.extensions = [\"eps\", \"jpeg\", \"pdf\", \"png\", \"ps\", \"raw\", \"svg\", \"tif\"];\n",
       "\n",
       "mpl.default_extension = \"png\";var comm_websocket_adapter = function(comm) {\n",
       "    // Create a \"websocket\"-like object which calls the given IPython comm\n",
       "    // object with the appropriate methods. Currently this is a non binary\n",
       "    // socket, so there is still some room for performance tuning.\n",
       "    var ws = {};\n",
       "\n",
       "    ws.close = function() {\n",
       "        comm.close()\n",
       "    };\n",
       "    ws.send = function(m) {\n",
       "        //console.log('sending', m);\n",
       "        comm.send(m);\n",
       "    };\n",
       "    // Register the callback with on_msg.\n",
       "    comm.on_msg(function(msg) {\n",
       "        //console.log('receiving', msg['content']['data'], msg);\n",
       "        // Pass the mpl event to the overridden (by mpl) onmessage function.\n",
       "        ws.onmessage(msg['content']['data'])\n",
       "    });\n",
       "    return ws;\n",
       "}\n",
       "\n",
       "mpl.mpl_figure_comm = function(comm, msg) {\n",
       "    // This is the function which gets called when the mpl process\n",
       "    // starts-up an IPython Comm through the \"matplotlib\" channel.\n",
       "\n",
       "    var id = msg.content.data.id;\n",
       "    // Get hold of the div created by the display call when the Comm\n",
       "    // socket was opened in Python.\n",
       "    var element = $(\"#\" + id);\n",
       "    var ws_proxy = comm_websocket_adapter(comm)\n",
       "\n",
       "    function ondownload(figure, format) {\n",
       "        window.open(figure.imageObj.src);\n",
       "    }\n",
       "\n",
       "    var fig = new mpl.figure(id, ws_proxy,\n",
       "                           ondownload,\n",
       "                           element.get(0));\n",
       "\n",
       "    // Call onopen now - mpl needs it, as it is assuming we've passed it a real\n",
       "    // web socket which is closed, not our websocket->open comm proxy.\n",
       "    ws_proxy.onopen();\n",
       "\n",
       "    fig.parent_element = element.get(0);\n",
       "    fig.cell_info = mpl.find_output_cell(\"<div id='\" + id + \"'></div>\");\n",
       "    if (!fig.cell_info) {\n",
       "        console.error(\"Failed to find cell for figure\", id, fig);\n",
       "        return;\n",
       "    }\n",
       "\n",
       "    var output_index = fig.cell_info[2]\n",
       "    var cell = fig.cell_info[0];\n",
       "\n",
       "};\n",
       "\n",
       "mpl.figure.prototype.handle_close = function(fig, msg) {\n",
       "    var width = fig.canvas.width/mpl.ratio\n",
       "    fig.root.unbind('remove')\n",
       "\n",
       "    // Update the output cell to use the data from the current canvas.\n",
       "    fig.push_to_output();\n",
       "    var dataURL = fig.canvas.toDataURL();\n",
       "    // Re-enable the keyboard manager in IPython - without this line, in FF,\n",
       "    // the notebook keyboard shortcuts fail.\n",
       "    IPython.keyboard_manager.enable()\n",
       "    $(fig.parent_element).html('<img src=\"' + dataURL + '\" width=\"' + width + '\">');\n",
       "    fig.close_ws(fig, msg);\n",
       "}\n",
       "\n",
       "mpl.figure.prototype.close_ws = function(fig, msg){\n",
       "    fig.send_message('closing', msg);\n",
       "    // fig.ws.close()\n",
       "}\n",
       "\n",
       "mpl.figure.prototype.push_to_output = function(remove_interactive) {\n",
       "    // Turn the data on the canvas into data in the output cell.\n",
       "    var width = this.canvas.width/mpl.ratio\n",
       "    var dataURL = this.canvas.toDataURL();\n",
       "    this.cell_info[1]['text/html'] = '<img src=\"' + dataURL + '\" width=\"' + width + '\">';\n",
       "}\n",
       "\n",
       "mpl.figure.prototype.updated_canvas_event = function() {\n",
       "    // Tell IPython that the notebook contents must change.\n",
       "    IPython.notebook.set_dirty(true);\n",
       "    this.send_message(\"ack\", {});\n",
       "    var fig = this;\n",
       "    // Wait a second, then push the new image to the DOM so\n",
       "    // that it is saved nicely (might be nice to debounce this).\n",
       "    setTimeout(function () { fig.push_to_output() }, 1000);\n",
       "}\n",
       "\n",
       "mpl.figure.prototype._init_toolbar = function() {\n",
       "    var fig = this;\n",
       "\n",
       "    var nav_element = $('<div/>');\n",
       "    nav_element.attr('style', 'width: 100%');\n",
       "    this.root.append(nav_element);\n",
       "\n",
       "    // Define a callback function for later on.\n",
       "    function toolbar_event(event) {\n",
       "        return fig.toolbar_button_onclick(event['data']);\n",
       "    }\n",
       "    function toolbar_mouse_event(event) {\n",
       "        return fig.toolbar_button_onmouseover(event['data']);\n",
       "    }\n",
       "\n",
       "    for(var toolbar_ind in mpl.toolbar_items){\n",
       "        var name = mpl.toolbar_items[toolbar_ind][0];\n",
       "        var tooltip = mpl.toolbar_items[toolbar_ind][1];\n",
       "        var image = mpl.toolbar_items[toolbar_ind][2];\n",
       "        var method_name = mpl.toolbar_items[toolbar_ind][3];\n",
       "\n",
       "        if (!name) { continue; };\n",
       "\n",
       "        var button = $('<button class=\"btn btn-default\" href=\"#\" title=\"' + name + '\"><i class=\"fa ' + image + ' fa-lg\"></i></button>');\n",
       "        button.click(method_name, toolbar_event);\n",
       "        button.mouseover(tooltip, toolbar_mouse_event);\n",
       "        nav_element.append(button);\n",
       "    }\n",
       "\n",
       "    // Add the status bar.\n",
       "    var status_bar = $('<span class=\"mpl-message\" style=\"text-align:right; float: right;\"/>');\n",
       "    nav_element.append(status_bar);\n",
       "    this.message = status_bar[0];\n",
       "\n",
       "    // Add the close button to the window.\n",
       "    var buttongrp = $('<div class=\"btn-group inline pull-right\"></div>');\n",
       "    var button = $('<button class=\"btn btn-mini btn-primary\" href=\"#\" title=\"Stop Interaction\"><i class=\"fa fa-power-off icon-remove icon-large\"></i></button>');\n",
       "    button.click(function (evt) { fig.handle_close(fig, {}); } );\n",
       "    button.mouseover('Stop Interaction', toolbar_mouse_event);\n",
       "    buttongrp.append(button);\n",
       "    var titlebar = this.root.find($('.ui-dialog-titlebar'));\n",
       "    titlebar.prepend(buttongrp);\n",
       "}\n",
       "\n",
       "mpl.figure.prototype._root_extra_style = function(el){\n",
       "    var fig = this\n",
       "    el.on(\"remove\", function(){\n",
       "\tfig.close_ws(fig, {});\n",
       "    });\n",
       "}\n",
       "\n",
       "mpl.figure.prototype._canvas_extra_style = function(el){\n",
       "    // this is important to make the div 'focusable\n",
       "    el.attr('tabindex', 0)\n",
       "    // reach out to IPython and tell the keyboard manager to turn it's self\n",
       "    // off when our div gets focus\n",
       "\n",
       "    // location in version 3\n",
       "    if (IPython.notebook.keyboard_manager) {\n",
       "        IPython.notebook.keyboard_manager.register_events(el);\n",
       "    }\n",
       "    else {\n",
       "        // location in version 2\n",
       "        IPython.keyboard_manager.register_events(el);\n",
       "    }\n",
       "\n",
       "}\n",
       "\n",
       "mpl.figure.prototype._key_event_extra = function(event, name) {\n",
       "    var manager = IPython.notebook.keyboard_manager;\n",
       "    if (!manager)\n",
       "        manager = IPython.keyboard_manager;\n",
       "\n",
       "    // Check for shift+enter\n",
       "    if (event.shiftKey && event.which == 13) {\n",
       "        this.canvas_div.blur();\n",
       "        // select the cell after this one\n",
       "        var index = IPython.notebook.find_cell_index(this.cell_info[0]);\n",
       "        IPython.notebook.select(index + 1);\n",
       "    }\n",
       "}\n",
       "\n",
       "mpl.figure.prototype.handle_save = function(fig, msg) {\n",
       "    fig.ondownload(fig, null);\n",
       "}\n",
       "\n",
       "\n",
       "mpl.find_output_cell = function(html_output) {\n",
       "    // Return the cell and output element which can be found *uniquely* in the notebook.\n",
       "    // Note - this is a bit hacky, but it is done because the \"notebook_saving.Notebook\"\n",
       "    // IPython event is triggered only after the cells have been serialised, which for\n",
       "    // our purposes (turning an active figure into a static one), is too late.\n",
       "    var cells = IPython.notebook.get_cells();\n",
       "    var ncells = cells.length;\n",
       "    for (var i=0; i<ncells; i++) {\n",
       "        var cell = cells[i];\n",
       "        if (cell.cell_type === 'code'){\n",
       "            for (var j=0; j<cell.output_area.outputs.length; j++) {\n",
       "                var data = cell.output_area.outputs[j];\n",
       "                if (data.data) {\n",
       "                    // IPython >= 3 moved mimebundle to data attribute of output\n",
       "                    data = data.data;\n",
       "                }\n",
       "                if (data['text/html'] == html_output) {\n",
       "                    return [cell, data, j];\n",
       "                }\n",
       "            }\n",
       "        }\n",
       "    }\n",
       "}\n",
       "\n",
       "// Register the function which deals with the matplotlib target/channel.\n",
       "// The kernel may be null if the page has been refreshed.\n",
       "if (IPython.notebook.kernel != null) {\n",
       "    IPython.notebook.kernel.comm_manager.register_target('matplotlib', mpl.mpl_figure_comm);\n",
       "}\n"
      ],
      "text/plain": [
       "<IPython.core.display.Javascript object>"
      ]
     },
     "metadata": {},
     "output_type": "display_data"
    },
    {
     "data": {
      "text/html": [
       "<img src=\"data:image/png;base64,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\" width=\"598.8889047540268\">"
      ],
      "text/plain": [
       "<IPython.core.display.HTML object>"
      ]
     },
     "metadata": {},
     "output_type": "display_data"
    }
   ],
   "source": [
    "k = nbr_samsung(X_0)\n",
    "\n",
    "u = np.linspace(0,n,n+1)\n",
    "\n",
    "fig = plt.figure(1,figsize=(6,4))\n",
    "\n",
    "# On trace 3 trajectoires\n",
    "plt.plot(u,traj_model_1(X_0,n),\"-ro\",label=\"modèle 1\",ms=2,linewidth=1)\n",
    "\n",
    "plt.plot(u,traj_model_2(X_0,n),\"-bo\",label=\"modèle 2\",ms=2,linewidth=1) \n",
    "\n",
    "plt.title('Trajectoires de S(t) dans les modèles 1 et 2')\n",
    "plt.xlabel('t')\n",
    "plt.ylabel('S(t)')\n",
    "plt.xlim(-0.5,n+1)\n",
    "plt.ylim(-0.5,n)\n",
    "plt.legend()\n",
    "plt.show()"
   ]
  },
  {
   "cell_type": "markdown",
   "metadata": {},
   "source": [
    "# B) Cas d'un graphe non-complet"
   ]
  },
  {
   "cell_type": "markdown",
   "metadata": {},
   "source": [
    "Dans cette partie, on s'intéresse à l'évolution de la chaîne de markov $S(t)_t$ dans le cas d'un graphe non-complet.  \n",
    "C'est à dire que chaque individu n'est pas forcément en relation avec l'ensemble de ses voisins."
   ]
  },
  {
   "cell_type": "markdown",
   "metadata": {},
   "source": [
    "## Le graphe aléatoire d'Erdos-Rényi"
   ]
  },
  {
   "cell_type": "markdown",
   "metadata": {},
   "source": [
    "Le graphe d'Erdos-Rényi est un type de graphe aléatoire.  \n",
    "On prend un graphe à $n$ sommets avec un maximum de $\\frac{n(n-1)}{2}$ arêtes uniques possibles entre les sommets.  \n",
    "Chaque arête existe alors avec une probabilité $p$.  \n",
    "On parle de graphe aléatoire $binomiale$ car le nombre $N_p$ d'arêtes de ${\\displaystyle \\mathbb {G} (n,p)}$ suit la loi binomiale de paramètres ($\\frac{n(n–1)}{2}, p$)."
   ]
  },
  {
   "cell_type": "code",
   "execution_count": 17,
   "metadata": {},
   "outputs": [],
   "source": [
    "# Probabilité d'existence d'une arête dans le graphe aléatoire  \n",
    "p = random.uniform(0,1)"
   ]
  },
  {
   "cell_type": "code",
   "execution_count": null,
   "metadata": {},
   "outputs": [],
   "source": []
  }
 ],
 "metadata": {
  "kernelspec": {
   "display_name": "Python 3",
   "language": "python",
   "name": "python3"
  },
  "language_info": {
   "codemirror_mode": {
    "name": "ipython",
    "version": 3
   },
   "file_extension": ".py",
   "mimetype": "text/x-python",
   "name": "python",
   "nbconvert_exporter": "python",
   "pygments_lexer": "ipython3",
   "version": "3.7.4"
  }
 },
 "nbformat": 4,
 "nbformat_minor": 2
}
