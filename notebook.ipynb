{
 "cells": [
  {
   "cell_type": "markdown",
   "metadata": {},
   "source": [
    "# Notebook du projet"
   ]
  },
  {
   "cell_type": "markdown",
   "metadata": {},
   "source": [
    "## Situation initiale"
   ]
  },
  {
   "cell_type": "code",
   "execution_count": 32,
   "metadata": {},
   "outputs": [],
   "source": [
    "import random\n",
    "import numpy as np"
   ]
  },
  {
   "cell_type": "code",
   "execution_count": 81,
   "metadata": {},
   "outputs": [],
   "source": [
    "n = 10 # nombre d'individus"
   ]
  },
  {
   "cell_type": "code",
   "execution_count": 82,
   "metadata": {},
   "outputs": [],
   "source": [
    "# Liste aléatoire de 0 et de 1 de taille n, 0 pour Samsung et 1 pour Apple\n",
    "X_0 = np.asarray([random.randint(0,1) for i in range(n)])"
   ]
  },
  {
   "cell_type": "code",
   "execution_count": 83,
   "metadata": {},
   "outputs": [],
   "source": [
    "# Nombre de Samsung à l'état initial\n",
    "S_0 = sum(X_0[i] == 0 for i in range(n))"
   ]
  },
  {
   "cell_type": "markdown",
   "metadata": {},
   "source": [
    "## Modèle 1"
   ]
  },
  {
   "cell_type": "markdown",
   "metadata": {},
   "source": [
    "### Implémentation du processus"
   ]
  },
  {
   "cell_type": "code",
   "execution_count": 85,
   "metadata": {},
   "outputs": [],
   "source": [
    "def nbr_samsung(X_0):\n",
    "    \n",
    "    \"\"\"Fonction qui compte le nombre d'indivu possédant un Samsung dans une liste d'individu\n",
    "       La liste doit être un numpy array\"\"\"\n",
    "    \n",
    "    # Nombre de Samsung dans l'ensemble des individus\n",
    "    S = np.sum(X_0 == 0)\n",
    "    return S "
   ]
  },
  {
   "cell_type": "code",
   "execution_count": 86,
   "metadata": {},
   "outputs": [],
   "source": [
    "def model_1(X_0):\n",
    "    \n",
    "    \"\"\"Implémentation de l'évolution du modèle 1\n",
    "       Renvoie la liste après une étape du processus\n",
    "       Fonctionne avec des numpy array\"\"\"\n",
    "    \n",
    "    X = np.copy(X_0)\n",
    "    i = np.random.choice(len(X)) # on tire un individu X_i au hasard dans la liste X\n",
    "    V = np.delete(X,i) # ensemble des voisins de l'individu X_i\n",
    "    \n",
    "    # Condition d'évolution de la méthode 1\n",
    "    if  np.sum(V == 1) > np.sum(V == 0):            \n",
    "        X[i] = 1\n",
    "    else:\n",
    "        X[i] = 0\n",
    "\n",
    "    return X"
   ]
  },
  {
   "cell_type": "code",
   "execution_count": 87,
   "metadata": {},
   "outputs": [],
   "source": [
    "def model_1_iter(X_0, t):\n",
    "    \n",
    "    \"\"\"Itération de la fonction modèle 1\n",
    "       Renvoie la liste après t étapes du processus\n",
    "       Fonctionne avec des numpy array\"\"\"\n",
    "    \n",
    "    X = np.copy(X_0)\n",
    "    k=0\n",
    "    while (k<t):\n",
    "        X = model_1(X)\n",
    "        k = k+1\n",
    "    return X"
   ]
  },
  {
   "cell_type": "code",
   "execution_count": null,
   "metadata": {},
   "outputs": [],
   "source": []
  },
  {
   "cell_type": "code",
   "execution_count": null,
   "metadata": {},
   "outputs": [],
   "source": []
  },
  {
   "cell_type": "code",
   "execution_count": null,
   "metadata": {},
   "outputs": [],
   "source": []
  }
 ],
 "metadata": {
  "kernelspec": {
   "display_name": "Python 3",
   "language": "python",
   "name": "python3"
  },
  "language_info": {
   "codemirror_mode": {
    "name": "ipython",
    "version": 3
   },
   "file_extension": ".py",
   "mimetype": "text/x-python",
   "name": "python",
   "nbconvert_exporter": "python",
   "pygments_lexer": "ipython3",
   "version": "3.7.4"
  }
 },
 "nbformat": 4,
 "nbformat_minor": 2
}
