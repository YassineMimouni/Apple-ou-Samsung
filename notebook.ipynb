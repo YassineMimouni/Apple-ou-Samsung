{
 "cells": [
  {
   "cell_type": "markdown",
   "metadata": {},
   "source": [
    "# Notebook du projet"
   ]
  },
  {
   "cell_type": "markdown",
   "metadata": {},
   "source": [
    "## Situation initiale"
   ]
  },
  {
   "cell_type": "code",
   "execution_count": 26,
   "metadata": {},
   "outputs": [],
   "source": [
    "import random\n",
    "import numpy as np\n",
    "import matplotlib.pyplot as plt"
   ]
  },
  {
   "cell_type": "code",
   "execution_count": 2,
   "metadata": {},
   "outputs": [],
   "source": [
    "n = 10 # nombre d'individus"
   ]
  },
  {
   "cell_type": "code",
   "execution_count": 3,
   "metadata": {},
   "outputs": [],
   "source": [
    "# Liste aléatoire de 0 et de 1 de taille n, 0 pour Samsung et 1 pour Apple\n",
    "X_0 = np.asarray([random.randint(0,1) for i in range(n)])"
   ]
  },
  {
   "cell_type": "code",
   "execution_count": 4,
   "metadata": {},
   "outputs": [],
   "source": [
    "# Nombre de Samsung à l'état initial\n",
    "S_0 = sum(X_0[i] == 0 for i in range(n))"
   ]
  },
  {
   "cell_type": "markdown",
   "metadata": {},
   "source": [
    "## Chaîne de Markov S(t)"
   ]
  },
  {
   "cell_type": "code",
   "execution_count": 5,
   "metadata": {},
   "outputs": [],
   "source": [
    "def nbr_samsung(X_0):\n",
    "    \n",
    "    \"\"\"Fonction qui compte le nombre d'indivu possédant un Samsung dans une liste d'individu\n",
    "       La liste doit être un numpy array\"\"\"\n",
    "    \n",
    "    # Nombre de Samsung dans l'ensemble des individus\n",
    "    S = (np.sum(X_0 == 0))\n",
    "    return int(S) "
   ]
  },
  {
   "cell_type": "code",
   "execution_count": 6,
   "metadata": {},
   "outputs": [
    {
     "data": {
      "text/plain": [
       "4"
      ]
     },
     "execution_count": 6,
     "metadata": {},
     "output_type": "execute_result"
    }
   ],
   "source": [
    "nbr_samsung(X_0)"
   ]
  },
  {
   "cell_type": "markdown",
   "metadata": {},
   "source": [
    "## Modèle 1 : Avis de la majorité des voisins"
   ]
  },
  {
   "cell_type": "markdown",
   "metadata": {},
   "source": [
    "### Implémentation du processus"
   ]
  },
  {
   "cell_type": "code",
   "execution_count": 7,
   "metadata": {},
   "outputs": [],
   "source": [
    "def model_1(X_0):\n",
    "    \n",
    "    \"\"\"Implémentation de l'évolution du modèle 1\n",
    "       Renvoie la liste après une étape du processus\n",
    "       Fonctionne avec des numpy array\"\"\"\n",
    "    \n",
    "    X = np.copy(X_0)\n",
    "    i = np.random.choice(len(X)) # on tire un individu X_i au hasard dans la liste X\n",
    "    V = np.delete(X,i)           # ensemble des voisins de l'individu X_i\n",
    "    \n",
    "    # Condition d'évolution de la méthode 1\n",
    "    if  np.sum(V == 1) > np.sum(V == 0):            \n",
    "        X[i] = 1\n",
    "    else:\n",
    "        X[i] = 0\n",
    "\n",
    "    return X"
   ]
  },
  {
   "cell_type": "code",
   "execution_count": 8,
   "metadata": {},
   "outputs": [
    {
     "data": {
      "text/plain": [
       "array([1, 1, 0, 1, 1, 0, 1, 1, 1, 0])"
      ]
     },
     "execution_count": 8,
     "metadata": {},
     "output_type": "execute_result"
    }
   ],
   "source": [
    "model_1(X_0)"
   ]
  },
  {
   "cell_type": "code",
   "execution_count": 9,
   "metadata": {},
   "outputs": [],
   "source": [
    "def model_1_iter(X_0, t):\n",
    "    \n",
    "    \"\"\"Fonction itérative du modèle 1\n",
    "       Renvoie la liste après t étapes du processus\n",
    "       Fonctionne avec des numpy array\"\"\"\n",
    "    \n",
    "    X = np.copy(X_0)\n",
    "    k = 0\n",
    "    while (k<t):\n",
    "        X = np.copy(model_1(X))\n",
    "        k = k+1\n",
    "    return X"
   ]
  },
  {
   "cell_type": "code",
   "execution_count": 10,
   "metadata": {},
   "outputs": [
    {
     "data": {
      "text/plain": [
       "array([1, 0, 1, 1, 1, 0, 1, 1, 1, 1])"
      ]
     },
     "execution_count": 10,
     "metadata": {},
     "output_type": "execute_result"
    }
   ],
   "source": [
    "model_1_iter(X_0, 7)"
   ]
  },
  {
   "cell_type": "code",
   "execution_count": 11,
   "metadata": {},
   "outputs": [],
   "source": [
    "def model_1_recu(X_0, t):\n",
    "    \n",
    "    \"\"\"Fonction récursive du modèle 1\n",
    "       Applique t fois le processus du modèle 1 à la même liste\n",
    "       Fonctionne avec des numpy array\"\"\"\n",
    "    \n",
    "    X = np.copy(X_0)\n",
    "    \n",
    "    if (t == 0):\n",
    "        return X\n",
    "    else:\n",
    "        return model_1(model_1_recu(X,t-1))"
   ]
  },
  {
   "cell_type": "code",
   "execution_count": 12,
   "metadata": {},
   "outputs": [
    {
     "data": {
      "text/plain": [
       "array([1, 1, 1, 1, 1, 0, 1, 1, 1, 0])"
      ]
     },
     "execution_count": 12,
     "metadata": {},
     "output_type": "execute_result"
    }
   ],
   "source": [
    "model_1_recu(X_0, 9)"
   ]
  },
  {
   "cell_type": "markdown",
   "metadata": {},
   "source": [
    "## Modèle 2 : Avis d'un seul voisin"
   ]
  },
  {
   "cell_type": "markdown",
   "metadata": {},
   "source": [
    "### Implémentation du processus"
   ]
  },
  {
   "cell_type": "code",
   "execution_count": 13,
   "metadata": {},
   "outputs": [],
   "source": [
    "def model_2(X_0):\n",
    "    \n",
    "    \"\"\"Implémentation de l'évolution du modèle 2\n",
    "       Renvoie la liste après une étape du processus\n",
    "       Fonctionne avec des numpy array\"\"\"\n",
    "    \n",
    "    X = np.copy(X_0)    \n",
    "    i = np.random.choice(len(X)) # on tire un individu X_i au hasard dans la liste X\n",
    "    V = np.delete(X,i)           # V_i ensemble des voisins de l'individu X_i\n",
    "    j = np.random.choice(len(V)) # on tire un individu X_j au hasard dans l'ensemble V_i\n",
    "    \n",
    "    X[i] = np.copy(V[j])\n",
    "    \n",
    "    return X"
   ]
  },
  {
   "cell_type": "code",
   "execution_count": 14,
   "metadata": {},
   "outputs": [
    {
     "data": {
      "text/plain": [
       "array([1, 0, 0, 1, 1, 0, 1, 1, 0, 0])"
      ]
     },
     "execution_count": 14,
     "metadata": {},
     "output_type": "execute_result"
    }
   ],
   "source": [
    "model_2(X_0)"
   ]
  },
  {
   "cell_type": "code",
   "execution_count": 15,
   "metadata": {},
   "outputs": [],
   "source": [
    "def model_2_iter(X_0, t):\n",
    "    \n",
    "    \"\"\"Fonction itérative du modèle 2\n",
    "       Renvoie la liste après t étapes du processus\n",
    "       Fonctionne avec des numpy array\"\"\"\n",
    "    \n",
    "    X = np.copy(X_0)\n",
    "    k = 0\n",
    "    \n",
    "    while (k<t):\n",
    "        k = k+1\n",
    "        X =np.copy(model_2(np.copy(X)))\n",
    "    return X"
   ]
  },
  {
   "cell_type": "code",
   "execution_count": 16,
   "metadata": {},
   "outputs": [
    {
     "data": {
      "text/plain": [
       "array([1, 1, 1, 1, 1, 0, 0, 1, 1, 0])"
      ]
     },
     "execution_count": 16,
     "metadata": {},
     "output_type": "execute_result"
    }
   ],
   "source": [
    "model_2_iter(X_0, 7)"
   ]
  },
  {
   "cell_type": "code",
   "execution_count": 17,
   "metadata": {},
   "outputs": [],
   "source": [
    "def model_2_recu(X_0, t):\n",
    "    \n",
    "    \"\"\"Fonction récursive du modèle 1\n",
    "       Applique t fois le processus du modèle 1 à la même liste\n",
    "       Fonctionne avec des numpy array\"\"\"\n",
    "    \n",
    "    X = np.copy(X_0)\n",
    "    \n",
    "    if (t == 0):\n",
    "        return X\n",
    "    else:\n",
    "        return model_2(model_2_recu(X, t-1))    "
   ]
  },
  {
   "cell_type": "code",
   "execution_count": 18,
   "metadata": {},
   "outputs": [
    {
     "data": {
      "text/plain": [
       "array([1, 0, 0, 1, 0, 1, 1, 1, 1, 0])"
      ]
     },
     "execution_count": 18,
     "metadata": {},
     "output_type": "execute_result"
    }
   ],
   "source": [
    "model_2_recu(X_0, 9)"
   ]
  },
  {
   "cell_type": "markdown",
   "metadata": {},
   "source": [
    "## Temps d'atteintes des états absorbants"
   ]
  },
  {
   "cell_type": "markdown",
   "metadata": {},
   "source": [
    "### Modèle 1"
   ]
  },
  {
   "cell_type": "code",
   "execution_count": 19,
   "metadata": {},
   "outputs": [],
   "source": [
    "def temps_att_1(X_0):\n",
    "    \n",
    "    \"\"\"Fonction qui calcul le nombre d'étape nécessaire pour atteindre l'un des deux états absorbants dans le modèle 1\"\"\"\n",
    "    \n",
    "    cpt = 0 # variable qui compte le nombre d'étapes\n",
    "    X = X_0\n",
    "    Z = np.zeros(len(X_0)) # état absorbant S(t)=0\n",
    "    U = np.ones(len(X_0))  # état absorbant S(t)=n\n",
    "    \n",
    "    while ( np.array_equal(X,Z) or np.array_equal(X,U) ) == False:\n",
    "        cpt = cpt + 1\n",
    "        X = model_1_recu(X,1)\n",
    "    return cpt"
   ]
  },
  {
   "cell_type": "code",
   "execution_count": 20,
   "metadata": {},
   "outputs": [
    {
     "data": {
      "text/plain": [
       "50"
      ]
     },
     "execution_count": 20,
     "metadata": {},
     "output_type": "execute_result"
    }
   ],
   "source": [
    "temps_att_1(X_0)"
   ]
  },
  {
   "cell_type": "code",
   "execution_count": 43,
   "metadata": {},
   "outputs": [],
   "source": [
    "def esperance_T(X_0,k):\n",
    "    \n",
    "    if k>(len(X_0)/2):\n",
    "        Esp_T = n*( np.log(n-k) + 0.5772 + np.random.normal(0,1) )\n",
    "    else:\n",
    "        Esp_T = n*( np.log(k) + 0.5772 + np.random.normal(0,1))\n",
    "\n",
    "    return Esp_T"
   ]
  },
  {
   "cell_type": "markdown",
   "metadata": {},
   "source": [
    "### Modèle 2"
   ]
  },
  {
   "cell_type": "code",
   "execution_count": null,
   "metadata": {},
   "outputs": [],
   "source": [
    "def temps_att_2(X_0):\n",
    "    \n",
    "    \"\"\"Fonction qui calcul le nombre d'étape nécessaire pour atteindre l'un des deux états absorbants dans le modèle 2\"\"\"\n",
    "    \n",
    "    cpt = 0 # variable qui compte le nombre d'étapes\n",
    "    X = X_0\n",
    "    Z = np.zeros(len(X_0)) # état absorbant S(t)=0\n",
    "    U = np.ones(len(X_0))  # état absorbant S(t)=n\n",
    "    \n",
    "    while ( np.array_equal(X,Z) or np.array_equal(X,U) ) == False:\n",
    "        cpt = cpt + 1\n",
    "        X = model_2_recu(X,1)\n",
    "    return cpt"
   ]
  },
  {
   "cell_type": "code",
   "execution_count": null,
   "metadata": {},
   "outputs": [],
   "source": [
    "temps_att_2(X_0)"
   ]
  },
  {
   "cell_type": "markdown",
   "metadata": {},
   "source": [
    "## Trajectoires de la chaîne de Markov S"
   ]
  },
  {
   "cell_type": "code",
   "execution_count": null,
   "metadata": {},
   "outputs": [],
   "source": [
    "%matplotlib notebook"
   ]
  },
  {
   "cell_type": "markdown",
   "metadata": {},
   "source": [
    "### Modèle 1"
   ]
  },
  {
   "cell_type": "code",
   "execution_count": null,
   "metadata": {},
   "outputs": [],
   "source": [
    "def traj_model_1(X_0, t):\n",
    "\n",
    "    \"\"\"Fonction qui donne les t premiers éléments de la chaine de Markov S dans le modèle 1 avec pour état initial X_0\"\"\"\n",
    "\n",
    "    S = np.zeros(t+1)\n",
    "    S[0] = nbr_samsung(X_0)\n",
    "    \n",
    "    for i in range(1,t+1):\n",
    "        X_0 = model_1_recu(X_0,1)\n",
    "        S[i] = nbr_samsung(X_0)\n",
    "    \n",
    "    return S"
   ]
  },
  {
   "cell_type": "code",
   "execution_count": null,
   "metadata": {},
   "outputs": [],
   "source": [
    "traj_model_1(X_0,10)"
   ]
  },
  {
   "cell_type": "markdown",
   "metadata": {},
   "source": [
    "### Modèle 2"
   ]
  },
  {
   "cell_type": "code",
   "execution_count": null,
   "metadata": {},
   "outputs": [],
   "source": [
    "def traj_model_2(X_0, t):\n",
    "\n",
    "    \"\"\"Fonction qui donne les t premiers éléments de la chaine de Markov S dans le modèle 2 avec pour état initial X_0\"\"\"\n",
    "\n",
    "    S = np.zeros(t+1)\n",
    "    S[0] = nbr_samsung(X_0)\n",
    "    \n",
    "    for i in range(1,t+1):\n",
    "        X_0 = model_2_recu(X_0,1)\n",
    "        S[i] = nbr_samsung(X_0)\n",
    "    \n",
    "    return S"
   ]
  },
  {
   "cell_type": "code",
   "execution_count": null,
   "metadata": {},
   "outputs": [],
   "source": [
    "traj_model_2(X_0,10)"
   ]
  },
  {
   "cell_type": "markdown",
   "metadata": {},
   "source": [
    "### Tracé des trajectoires"
   ]
  },
  {
   "cell_type": "code",
   "execution_count": 28,
   "metadata": {},
   "outputs": [
    {
     "ename": "NameError",
     "evalue": "name 'traj_model_1' is not defined",
     "output_type": "error",
     "traceback": [
      "\u001b[1;31m---------------------------------------------------------------------------\u001b[0m",
      "\u001b[1;31mNameError\u001b[0m                                 Traceback (most recent call last)",
      "\u001b[1;32m<ipython-input-28-ebf4d68365b7>\u001b[0m in \u001b[0;36m<module>\u001b[1;34m\u001b[0m\n\u001b[0;32m      7\u001b[0m \u001b[1;33m\u001b[0m\u001b[0m\n\u001b[0;32m      8\u001b[0m \u001b[1;31m# On trace 3 trajectoires\u001b[0m\u001b[1;33m\u001b[0m\u001b[1;33m\u001b[0m\u001b[1;33m\u001b[0m\u001b[0m\n\u001b[1;32m----> 9\u001b[1;33m \u001b[0mplt\u001b[0m\u001b[1;33m.\u001b[0m\u001b[0mplot\u001b[0m\u001b[1;33m(\u001b[0m\u001b[0mu\u001b[0m\u001b[1;33m,\u001b[0m\u001b[0mtraj_model_1\u001b[0m\u001b[1;33m(\u001b[0m\u001b[0mX_0\u001b[0m\u001b[1;33m,\u001b[0m\u001b[0mt\u001b[0m\u001b[1;33m)\u001b[0m\u001b[1;33m,\u001b[0m\u001b[1;34m\"-ro\"\u001b[0m\u001b[1;33m,\u001b[0m\u001b[0mlabel\u001b[0m\u001b[1;33m=\u001b[0m\u001b[1;34m\"modèle 1\"\u001b[0m\u001b[1;33m,\u001b[0m\u001b[0mms\u001b[0m\u001b[1;33m=\u001b[0m\u001b[1;36m5\u001b[0m\u001b[1;33m,\u001b[0m\u001b[0mlinewidth\u001b[0m\u001b[1;33m=\u001b[0m\u001b[1;36m1\u001b[0m\u001b[1;33m)\u001b[0m\u001b[1;33m\u001b[0m\u001b[1;33m\u001b[0m\u001b[0m\n\u001b[0m\u001b[0;32m     10\u001b[0m \u001b[1;33m\u001b[0m\u001b[0m\n\u001b[0;32m     11\u001b[0m \u001b[0mplt\u001b[0m\u001b[1;33m.\u001b[0m\u001b[0mplot\u001b[0m\u001b[1;33m(\u001b[0m\u001b[0mu\u001b[0m\u001b[1;33m,\u001b[0m\u001b[0mtraj_model_2\u001b[0m\u001b[1;33m(\u001b[0m\u001b[0mX_0\u001b[0m\u001b[1;33m,\u001b[0m\u001b[0mt\u001b[0m\u001b[1;33m)\u001b[0m\u001b[1;33m,\u001b[0m\u001b[1;34m\"-bo\"\u001b[0m\u001b[1;33m,\u001b[0m\u001b[0mlabel\u001b[0m\u001b[1;33m=\u001b[0m\u001b[1;34m\"modèle 2\"\u001b[0m\u001b[1;33m,\u001b[0m\u001b[0mms\u001b[0m\u001b[1;33m=\u001b[0m\u001b[1;36m5\u001b[0m\u001b[1;33m,\u001b[0m\u001b[0mlinewidth\u001b[0m\u001b[1;33m=\u001b[0m\u001b[1;36m1\u001b[0m\u001b[1;33m)\u001b[0m\u001b[1;33m\u001b[0m\u001b[1;33m\u001b[0m\u001b[0m\n",
      "\u001b[1;31mNameError\u001b[0m: name 'traj_model_1' is not defined"
     ]
    },
    {
     "data": {
      "text/plain": [
       "<Figure size 432x432 with 0 Axes>"
      ]
     },
     "metadata": {},
     "output_type": "display_data"
    }
   ],
   "source": [
    "t = 10\n",
    "k = nbr_samsung(X_0)\n",
    "\n",
    "u = np.linspace(0,t,t+1)\n",
    "\n",
    "fig = plt.figure(1,figsize=(6,6))\n",
    "\n",
    "# On trace 3 trajectoires\n",
    "plt.plot(u,traj_model_1(X_0,t),\"-ro\",label=\"modèle 1\",ms=5,linewidth=1)\n",
    "\n",
    "plt.plot(u,traj_model_2(X_0,t),\"-bo\",label=\"modèle 2\",ms=5,linewidth=1) \n",
    "\n",
    "plt.title('Trajectoires de S(t) dans les modèles 1 et 2')\n",
    "plt.xlabel('t')\n",
    "plt.ylabel('S(t)')\n",
    "plt.xlim(-0.5,t+1)\n",
    "plt.ylim(-0.5,10.5)\n",
    "plt.legend()\n",
    "plt.show()"
   ]
  }
 ],
 "metadata": {
  "kernelspec": {
   "display_name": "Python 3",
   "language": "python",
   "name": "python3"
  },
  "language_info": {
   "codemirror_mode": {
    "name": "ipython",
    "version": 3
   },
   "file_extension": ".py",
   "mimetype": "text/x-python",
   "name": "python",
   "nbconvert_exporter": "python",
   "pygments_lexer": "ipython3",
   "version": "3.7.4"
  }
 },
 "nbformat": 4,
 "nbformat_minor": 2
}
