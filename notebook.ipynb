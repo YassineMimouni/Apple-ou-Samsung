{
 "cells": [
  {
   "cell_type": "markdown",
   "metadata": {},
   "source": [
    "# Notebook du projet"
   ]
  },
  {
   "cell_type": "markdown",
   "metadata": {},
   "source": [
    "## Situation initiale"
   ]
  },
  {
   "cell_type": "code",
   "execution_count": 1,
   "metadata": {},
   "outputs": [],
   "source": [
    "import random\n",
    "import numpy as np"
   ]
  },
  {
   "cell_type": "code",
   "execution_count": 2,
   "metadata": {},
   "outputs": [],
   "source": [
    "n = 10 # nombre d'individus"
   ]
  },
  {
   "cell_type": "code",
   "execution_count": 3,
   "metadata": {},
   "outputs": [],
   "source": [
    "# Liste aléatoire de 0 et de 1 de taille n, 0 pour Samsung et 1 pour Apple\n",
    "X_0 = np.asarray([random.randint(0,1) for i in range(n)])"
   ]
  },
  {
   "cell_type": "code",
   "execution_count": 4,
   "metadata": {},
   "outputs": [],
   "source": [
    "# Nombre de Samsung à l'état initial\n",
    "S_0 = sum(X_0[i] == 0 for i in range(n))"
   ]
  },
  {
   "cell_type": "markdown",
   "metadata": {},
   "source": [
    "## Chaîne de Markov S(t)"
   ]
  },
  {
   "cell_type": "code",
   "execution_count": 5,
   "metadata": {},
   "outputs": [],
   "source": [
    "def nbr_samsung(X_0):\n",
    "    \n",
    "    \"\"\"Fonction qui compte le nombre d'indivu possédant un Samsung dans une liste d'individu\n",
    "       La liste doit être un numpy array\"\"\"\n",
    "    \n",
    "    # Nombre de Samsung dans l'ensemble des individus\n",
    "    S = np.sum(X_0 == 0)\n",
    "    return S "
   ]
  },
  {
   "cell_type": "code",
   "execution_count": 6,
   "metadata": {},
   "outputs": [
    {
     "data": {
      "text/plain": [
       "5"
      ]
     },
     "execution_count": 6,
     "metadata": {},
     "output_type": "execute_result"
    }
   ],
   "source": [
    "nbr_samsung(X_0)"
   ]
  },
  {
   "cell_type": "markdown",
   "metadata": {},
   "source": [
    "## Modèle 1 : Avis de la majorité des voisins"
   ]
  },
  {
   "cell_type": "markdown",
   "metadata": {},
   "source": [
    "### Implémentation du processus"
   ]
  },
  {
   "cell_type": "code",
   "execution_count": 7,
   "metadata": {},
   "outputs": [],
   "source": [
    "def model_1(X_0):\n",
    "    \n",
    "    \"\"\"Implémentation de l'évolution du modèle 1\n",
    "       Renvoie la liste après une étape du processus\n",
    "       Fonctionne avec des numpy array\"\"\"\n",
    "    \n",
    "    X = np.copy(X_0)\n",
    "    i = np.random.choice(len(X)) # on tire un individu X_i au hasard dans la liste X\n",
    "    V = np.delete(X,i)           # ensemble des voisins de l'individu X_i\n",
    "    \n",
    "    # Condition d'évolution de la méthode 1\n",
    "    if  np.sum(V == 1) > np.sum(V == 0):            \n",
    "        X[i] = 1\n",
    "    else:\n",
    "        X[i] = 0\n",
    "\n",
    "    return X"
   ]
  },
  {
   "cell_type": "code",
   "execution_count": 8,
   "metadata": {},
   "outputs": [
    {
     "data": {
      "text/plain": [
       "array([1, 1, 0, 0, 0, 0, 0, 1, 1, 0])"
      ]
     },
     "execution_count": 8,
     "metadata": {},
     "output_type": "execute_result"
    }
   ],
   "source": [
    "model_1(X_0)"
   ]
  },
  {
   "cell_type": "code",
   "execution_count": 9,
   "metadata": {},
   "outputs": [],
   "source": [
    "def model_1_iter(X_0, t):\n",
    "    \n",
    "    \"\"\"Fonction itérative du modèle 1\n",
    "       Renvoie la liste après t étapes du processus\n",
    "       Fonctionne avec des numpy array\"\"\"\n",
    "    \n",
    "    X = np.copy(X_0)\n",
    "    k = 0\n",
    "    while (k<t):\n",
    "        X = np.copy(model_1(X))\n",
    "        k = k+1\n",
    "    return X"
   ]
  },
  {
   "cell_type": "code",
   "execution_count": 10,
   "metadata": {},
   "outputs": [
    {
     "data": {
      "text/plain": [
       "array([1, 1, 0, 0, 0, 0, 0, 0, 0, 0])"
      ]
     },
     "execution_count": 10,
     "metadata": {},
     "output_type": "execute_result"
    }
   ],
   "source": [
    "model_1_iter(X_0, 7)"
   ]
  },
  {
   "cell_type": "code",
   "execution_count": 11,
   "metadata": {},
   "outputs": [],
   "source": [
    "def model_1_recu(X_0, t):\n",
    "    \n",
    "    \"\"\"Fonction récursive du modèle 1\n",
    "       Applique t fois le processus du modèle 1 à la même liste\n",
    "       Fonctionne avec des numpy array\"\"\"\n",
    "    \n",
    "    X = np.copy(X_0)\n",
    "    \n",
    "    if (t == 0):\n",
    "        return X\n",
    "    else:\n",
    "        return model_1(model_1_recu(X,t-1))"
   ]
  },
  {
   "cell_type": "code",
   "execution_count": 12,
   "metadata": {},
   "outputs": [
    {
     "data": {
      "text/plain": [
       "array([1, 1, 1, 1, 0, 1, 0, 1, 1, 1])"
      ]
     },
     "execution_count": 12,
     "metadata": {},
     "output_type": "execute_result"
    }
   ],
   "source": [
    "model_1_recu(X_0, 9)"
   ]
  },
  {
   "cell_type": "markdown",
   "metadata": {},
   "source": [
    "## Modèle 2 : Avis d'un seul voisin"
   ]
  },
  {
   "cell_type": "markdown",
   "metadata": {},
   "source": [
    "### Implémentation du processus"
   ]
  },
  {
   "cell_type": "code",
   "execution_count": 13,
   "metadata": {},
   "outputs": [],
   "source": [
    "def model_2(X_0):\n",
    "    \n",
    "    \"\"\"Implémentation de l'évolution du modèle 2\n",
    "       Renvoie la liste après une étape du processus\n",
    "       Fonctionne avec des numpy array\"\"\"\n",
    "    \n",
    "    X = np.copy(X_0)    \n",
    "    i = np.random.choice(len(X)) # on tire un individu X_i au hasard dans la liste X\n",
    "    V = np.delete(X,i)           # V_i ensemble des voisins de l'individu X_i\n",
    "    j = np.random.choice(len(V)) # on tire un individu X_j au hasard dans l'ensemble V_i\n",
    "    \n",
    "    X[i] = np.copy(V[j])\n",
    "    \n",
    "    return X"
   ]
  },
  {
   "cell_type": "code",
   "execution_count": 14,
   "metadata": {},
   "outputs": [
    {
     "data": {
      "text/plain": [
       "array([1, 1, 1, 0, 0, 0, 0, 1, 1, 0])"
      ]
     },
     "execution_count": 14,
     "metadata": {},
     "output_type": "execute_result"
    }
   ],
   "source": [
    "model_2(X_0)"
   ]
  },
  {
   "cell_type": "code",
   "execution_count": 15,
   "metadata": {},
   "outputs": [],
   "source": [
    "def model_2_iter(X_0, t):\n",
    "    \n",
    "    \"\"\"Fonction itérative du modèle 2\n",
    "       Renvoie la liste après t étapes du processus\n",
    "       Fonctionne avec des numpy array\"\"\"\n",
    "    \n",
    "    X = np.copy(X_0)\n",
    "    k = 0\n",
    "    \n",
    "    while (k<t):\n",
    "        k = k+1\n",
    "        X =np.copy(model_2(np.copy(X)))\n",
    "    return X"
   ]
  },
  {
   "cell_type": "code",
   "execution_count": 16,
   "metadata": {},
   "outputs": [
    {
     "data": {
      "text/plain": [
       "array([1, 1, 1, 0, 0, 0, 1, 1, 1, 1])"
      ]
     },
     "execution_count": 16,
     "metadata": {},
     "output_type": "execute_result"
    }
   ],
   "source": [
    "model_2_iter(X_0, 7)"
   ]
  },
  {
   "cell_type": "code",
   "execution_count": 17,
   "metadata": {},
   "outputs": [],
   "source": [
    "def model_2_recu(X_0, t):\n",
    "    \n",
    "    \"\"\"Fonction récursive du modèle 1\n",
    "       Applique t fois le processus du modèle 1 à la même liste\n",
    "       Fonctionne avec des numpy array\"\"\"\n",
    "    \n",
    "    X = np.copy(X_0)\n",
    "    \n",
    "    if (t == 0):\n",
    "        return X\n",
    "    else:\n",
    "        return model_2(model_2_recu(X, t-1))    "
   ]
  },
  {
   "cell_type": "code",
   "execution_count": 18,
   "metadata": {},
   "outputs": [
    {
     "data": {
      "text/plain": [
       "array([1, 1, 1, 0, 1, 1, 0, 1, 1, 1])"
      ]
     },
     "execution_count": 18,
     "metadata": {},
     "output_type": "execute_result"
    }
   ],
   "source": [
    "model_2_recu(X_0, 9)"
   ]
  },
  {
   "cell_type": "markdown",
   "metadata": {},
   "source": [
    "## Temps d'atteintes des états absorbants"
   ]
  },
  {
   "cell_type": "code",
   "execution_count": 19,
   "metadata": {},
   "outputs": [],
   "source": [
    "def temps_att_1(X_0):\n",
    "    \n",
    "    \"\"\"Fonction qui calcul le nombre d'étape nécessaire pour atteindre l'un des deux états absorbants dans le modèle 1\"\"\"\n",
    "    \n",
    "    cpt = 0 # variable qui compte le nombre d'étapes\n",
    "    \n",
    "    while (model_1_recu(X_0,cpt).any() != np.zeros(len(X_0)).any() or model_1_recu(X_0,cpt).any() != np.ones(len(X_0)).any()):\n",
    "        cpt = cpt + 1\n",
    "    return cpt"
   ]
  },
  {
   "cell_type": "code",
   "execution_count": 23,
   "metadata": {},
   "outputs": [
    {
     "data": {
      "text/plain": [
       "21"
      ]
     },
     "execution_count": 23,
     "metadata": {},
     "output_type": "execute_result"
    }
   ],
   "source": [
    "temps_att_1(X_0)"
   ]
  },
  {
   "cell_type": "code",
   "execution_count": 21,
   "metadata": {},
   "outputs": [],
   "source": [
    "def temps_att_2(X_0):\n",
    "    \n",
    "    \"\"\"Fonction qui calcul le nombre d'étape nécessaire pour atteindre l'un des deux états absorbants dans le modèle 2\"\"\"\n",
    "    \n",
    "    cpt = 0 # variable qui compte le nombre d'étapes\n",
    "    \n",
    "    while (model_2_recu(X_0,cpt).any() != np.zeros(len(X_0)).any() or model_2_recu(X_0,cpt).any() != np.ones(len(X_0)).any()):\n",
    "        cpt = cpt + 1\n",
    "    return cpt"
   ]
  },
  {
   "cell_type": "code",
   "execution_count": 25,
   "metadata": {},
   "outputs": [
    {
     "data": {
      "text/plain": [
       "34"
      ]
     },
     "execution_count": 25,
     "metadata": {},
     "output_type": "execute_result"
    }
   ],
   "source": [
    "temps_att_2(X_0)"
   ]
  }
 ],
 "metadata": {
  "kernelspec": {
   "display_name": "Python 3",
   "language": "python",
   "name": "python3"
  },
  "language_info": {
   "codemirror_mode": {
    "name": "ipython",
    "version": 3
   },
   "file_extension": ".py",
   "mimetype": "text/x-python",
   "name": "python",
   "nbconvert_exporter": "python",
   "pygments_lexer": "ipython3",
   "version": "3.7.4"
  }
 },
 "nbformat": 4,
 "nbformat_minor": 2
}
